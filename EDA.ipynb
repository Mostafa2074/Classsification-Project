{
 "cells": [
  {
   "cell_type": "markdown",
   "id": "5fe25f9c",
   "metadata": {},
   "source": [
    "### Importing Required Libraries"
   ]
  },
  {
   "cell_type": "code",
   "execution_count": 1,
   "id": "06495fde",
   "metadata": {},
   "outputs": [],
   "source": [
    "import pandas as pd\n",
    "import matplotlib.pyplot as plt\n",
    "import seaborn as sns "
   ]
  },
  {
   "cell_type": "markdown",
   "id": "0b4bc39c",
   "metadata": {},
   "source": [
    "### Loading Dataset"
   ]
  },
  {
   "cell_type": "code",
   "execution_count": 2,
   "id": "ccba82af",
   "metadata": {},
   "outputs": [],
   "source": [
    "df=pd.read_csv('drug_consumption.csv')"
   ]
  },
  {
   "cell_type": "markdown",
   "id": "c645f1c3",
   "metadata": {},
   "source": [
    "### Previewing the Head of Dataset"
   ]
  },
  {
   "cell_type": "code",
   "execution_count": 3,
   "id": "c1c5e9d0",
   "metadata": {},
   "outputs": [
    {
     "data": {
      "application/vnd.microsoft.datawrangler.viewer.v0+json": {
       "columns": [
        {
         "name": "index",
         "rawType": "int64",
         "type": "integer"
        },
        {
         "name": "ID",
         "rawType": "int64",
         "type": "integer"
        },
        {
         "name": "Age",
         "rawType": "float64",
         "type": "float"
        },
        {
         "name": "Gender",
         "rawType": "float64",
         "type": "float"
        },
        {
         "name": "Education",
         "rawType": "float64",
         "type": "float"
        },
        {
         "name": "Country",
         "rawType": "float64",
         "type": "float"
        },
        {
         "name": "Ethnicity",
         "rawType": "float64",
         "type": "float"
        },
        {
         "name": "Nscore",
         "rawType": "float64",
         "type": "float"
        },
        {
         "name": "Escore",
         "rawType": "float64",
         "type": "float"
        },
        {
         "name": "Oscore",
         "rawType": "float64",
         "type": "float"
        },
        {
         "name": "Ascore",
         "rawType": "float64",
         "type": "float"
        },
        {
         "name": "Cscore",
         "rawType": "float64",
         "type": "float"
        },
        {
         "name": "Impulsive",
         "rawType": "float64",
         "type": "float"
        },
        {
         "name": "SS",
         "rawType": "float64",
         "type": "float"
        },
        {
         "name": "Alcohol",
         "rawType": "object",
         "type": "string"
        },
        {
         "name": "Amphet",
         "rawType": "object",
         "type": "string"
        },
        {
         "name": "Amyl",
         "rawType": "object",
         "type": "string"
        },
        {
         "name": "Benzos",
         "rawType": "object",
         "type": "string"
        },
        {
         "name": "Caff",
         "rawType": "object",
         "type": "string"
        },
        {
         "name": "Cannabis",
         "rawType": "object",
         "type": "string"
        },
        {
         "name": "Choc",
         "rawType": "object",
         "type": "string"
        },
        {
         "name": "Coke",
         "rawType": "object",
         "type": "string"
        },
        {
         "name": "Crack",
         "rawType": "object",
         "type": "string"
        },
        {
         "name": "Ecstasy",
         "rawType": "object",
         "type": "string"
        },
        {
         "name": "Heroin",
         "rawType": "object",
         "type": "string"
        },
        {
         "name": "Ketamine",
         "rawType": "object",
         "type": "string"
        },
        {
         "name": "Legalh",
         "rawType": "object",
         "type": "string"
        },
        {
         "name": "LSD",
         "rawType": "object",
         "type": "string"
        },
        {
         "name": "Meth",
         "rawType": "object",
         "type": "string"
        },
        {
         "name": "Mushrooms",
         "rawType": "object",
         "type": "string"
        },
        {
         "name": "Nicotine",
         "rawType": "object",
         "type": "string"
        },
        {
         "name": "Semer",
         "rawType": "object",
         "type": "string"
        },
        {
         "name": "VSA",
         "rawType": "object",
         "type": "string"
        }
       ],
       "ref": "e712443b-bb26-48aa-8aba-be41d691a77d",
       "rows": [
        [
         "0",
         "1",
         "0.49788",
         "0.48246",
         "-0.05921",
         "0.96082",
         "0.126",
         "0.31287",
         "-0.57545",
         "-0.58331",
         "-0.91699",
         "-0.00665",
         "-0.21712",
         "-1.18084",
         "CL5",
         "CL2",
         "CL0",
         "CL2",
         "CL6",
         "CL0",
         "CL5",
         "CL0",
         "CL0",
         "CL0",
         "CL0",
         "CL0",
         "CL0",
         "CL0",
         "CL0",
         "CL0",
         "CL2",
         "CL0",
         "CL0"
        ],
        [
         "1",
         "2",
         "-0.07854",
         "-0.48246",
         "1.98437",
         "0.96082",
         "-0.31685",
         "-0.67825",
         "1.93886",
         "1.43533",
         "0.76096",
         "-0.14277",
         "-0.71126",
         "-0.21575",
         "CL5",
         "CL2",
         "CL2",
         "CL0",
         "CL6",
         "CL4",
         "CL6",
         "CL3",
         "CL0",
         "CL4",
         "CL0",
         "CL2",
         "CL0",
         "CL2",
         "CL3",
         "CL0",
         "CL4",
         "CL0",
         "CL0"
        ],
        [
         "2",
         "3",
         "0.49788",
         "-0.48246",
         "-0.05921",
         "0.96082",
         "-0.31685",
         "-0.46725",
         "0.80523",
         "-0.84732",
         "-1.6209",
         "-1.0145",
         "-1.37983",
         "0.40148",
         "CL6",
         "CL0",
         "CL0",
         "CL0",
         "CL6",
         "CL3",
         "CL4",
         "CL0",
         "CL0",
         "CL0",
         "CL0",
         "CL0",
         "CL0",
         "CL0",
         "CL0",
         "CL1",
         "CL0",
         "CL0",
         "CL0"
        ],
        [
         "3",
         "4",
         "-0.95197",
         "0.48246",
         "1.16365",
         "0.96082",
         "-0.31685",
         "-0.14882",
         "-0.80615",
         "-0.01928",
         "0.59042",
         "0.58489",
         "-1.37983",
         "-1.18084",
         "CL4",
         "CL0",
         "CL0",
         "CL3",
         "CL5",
         "CL2",
         "CL4",
         "CL2",
         "CL0",
         "CL0",
         "CL0",
         "CL2",
         "CL0",
         "CL0",
         "CL0",
         "CL0",
         "CL2",
         "CL0",
         "CL0"
        ],
        [
         "4",
         "5",
         "0.49788",
         "0.48246",
         "1.98437",
         "0.96082",
         "-0.31685",
         "0.73545",
         "-1.6334",
         "-0.45174",
         "-0.30172",
         "1.30612",
         "-0.21712",
         "-0.21575",
         "CL4",
         "CL1",
         "CL1",
         "CL0",
         "CL6",
         "CL3",
         "CL6",
         "CL0",
         "CL0",
         "CL1",
         "CL0",
         "CL0",
         "CL1",
         "CL0",
         "CL0",
         "CL2",
         "CL2",
         "CL0",
         "CL0"
        ]
       ],
       "shape": {
        "columns": 32,
        "rows": 5
       }
      },
      "text/html": [
       "<div>\n",
       "<style scoped>\n",
       "    .dataframe tbody tr th:only-of-type {\n",
       "        vertical-align: middle;\n",
       "    }\n",
       "\n",
       "    .dataframe tbody tr th {\n",
       "        vertical-align: top;\n",
       "    }\n",
       "\n",
       "    .dataframe thead th {\n",
       "        text-align: right;\n",
       "    }\n",
       "</style>\n",
       "<table border=\"1\" class=\"dataframe\">\n",
       "  <thead>\n",
       "    <tr style=\"text-align: right;\">\n",
       "      <th></th>\n",
       "      <th>ID</th>\n",
       "      <th>Age</th>\n",
       "      <th>Gender</th>\n",
       "      <th>Education</th>\n",
       "      <th>Country</th>\n",
       "      <th>Ethnicity</th>\n",
       "      <th>Nscore</th>\n",
       "      <th>Escore</th>\n",
       "      <th>Oscore</th>\n",
       "      <th>Ascore</th>\n",
       "      <th>...</th>\n",
       "      <th>Ecstasy</th>\n",
       "      <th>Heroin</th>\n",
       "      <th>Ketamine</th>\n",
       "      <th>Legalh</th>\n",
       "      <th>LSD</th>\n",
       "      <th>Meth</th>\n",
       "      <th>Mushrooms</th>\n",
       "      <th>Nicotine</th>\n",
       "      <th>Semer</th>\n",
       "      <th>VSA</th>\n",
       "    </tr>\n",
       "  </thead>\n",
       "  <tbody>\n",
       "    <tr>\n",
       "      <th>0</th>\n",
       "      <td>1</td>\n",
       "      <td>0.49788</td>\n",
       "      <td>0.48246</td>\n",
       "      <td>-0.05921</td>\n",
       "      <td>0.96082</td>\n",
       "      <td>0.12600</td>\n",
       "      <td>0.31287</td>\n",
       "      <td>-0.57545</td>\n",
       "      <td>-0.58331</td>\n",
       "      <td>-0.91699</td>\n",
       "      <td>...</td>\n",
       "      <td>CL0</td>\n",
       "      <td>CL0</td>\n",
       "      <td>CL0</td>\n",
       "      <td>CL0</td>\n",
       "      <td>CL0</td>\n",
       "      <td>CL0</td>\n",
       "      <td>CL0</td>\n",
       "      <td>CL2</td>\n",
       "      <td>CL0</td>\n",
       "      <td>CL0</td>\n",
       "    </tr>\n",
       "    <tr>\n",
       "      <th>1</th>\n",
       "      <td>2</td>\n",
       "      <td>-0.07854</td>\n",
       "      <td>-0.48246</td>\n",
       "      <td>1.98437</td>\n",
       "      <td>0.96082</td>\n",
       "      <td>-0.31685</td>\n",
       "      <td>-0.67825</td>\n",
       "      <td>1.93886</td>\n",
       "      <td>1.43533</td>\n",
       "      <td>0.76096</td>\n",
       "      <td>...</td>\n",
       "      <td>CL4</td>\n",
       "      <td>CL0</td>\n",
       "      <td>CL2</td>\n",
       "      <td>CL0</td>\n",
       "      <td>CL2</td>\n",
       "      <td>CL3</td>\n",
       "      <td>CL0</td>\n",
       "      <td>CL4</td>\n",
       "      <td>CL0</td>\n",
       "      <td>CL0</td>\n",
       "    </tr>\n",
       "    <tr>\n",
       "      <th>2</th>\n",
       "      <td>3</td>\n",
       "      <td>0.49788</td>\n",
       "      <td>-0.48246</td>\n",
       "      <td>-0.05921</td>\n",
       "      <td>0.96082</td>\n",
       "      <td>-0.31685</td>\n",
       "      <td>-0.46725</td>\n",
       "      <td>0.80523</td>\n",
       "      <td>-0.84732</td>\n",
       "      <td>-1.62090</td>\n",
       "      <td>...</td>\n",
       "      <td>CL0</td>\n",
       "      <td>CL0</td>\n",
       "      <td>CL0</td>\n",
       "      <td>CL0</td>\n",
       "      <td>CL0</td>\n",
       "      <td>CL0</td>\n",
       "      <td>CL1</td>\n",
       "      <td>CL0</td>\n",
       "      <td>CL0</td>\n",
       "      <td>CL0</td>\n",
       "    </tr>\n",
       "    <tr>\n",
       "      <th>3</th>\n",
       "      <td>4</td>\n",
       "      <td>-0.95197</td>\n",
       "      <td>0.48246</td>\n",
       "      <td>1.16365</td>\n",
       "      <td>0.96082</td>\n",
       "      <td>-0.31685</td>\n",
       "      <td>-0.14882</td>\n",
       "      <td>-0.80615</td>\n",
       "      <td>-0.01928</td>\n",
       "      <td>0.59042</td>\n",
       "      <td>...</td>\n",
       "      <td>CL0</td>\n",
       "      <td>CL0</td>\n",
       "      <td>CL2</td>\n",
       "      <td>CL0</td>\n",
       "      <td>CL0</td>\n",
       "      <td>CL0</td>\n",
       "      <td>CL0</td>\n",
       "      <td>CL2</td>\n",
       "      <td>CL0</td>\n",
       "      <td>CL0</td>\n",
       "    </tr>\n",
       "    <tr>\n",
       "      <th>4</th>\n",
       "      <td>5</td>\n",
       "      <td>0.49788</td>\n",
       "      <td>0.48246</td>\n",
       "      <td>1.98437</td>\n",
       "      <td>0.96082</td>\n",
       "      <td>-0.31685</td>\n",
       "      <td>0.73545</td>\n",
       "      <td>-1.63340</td>\n",
       "      <td>-0.45174</td>\n",
       "      <td>-0.30172</td>\n",
       "      <td>...</td>\n",
       "      <td>CL1</td>\n",
       "      <td>CL0</td>\n",
       "      <td>CL0</td>\n",
       "      <td>CL1</td>\n",
       "      <td>CL0</td>\n",
       "      <td>CL0</td>\n",
       "      <td>CL2</td>\n",
       "      <td>CL2</td>\n",
       "      <td>CL0</td>\n",
       "      <td>CL0</td>\n",
       "    </tr>\n",
       "  </tbody>\n",
       "</table>\n",
       "<p>5 rows × 32 columns</p>\n",
       "</div>"
      ],
      "text/plain": [
       "   ID      Age   Gender  Education  Country  Ethnicity   Nscore   Escore  \\\n",
       "0   1  0.49788  0.48246   -0.05921  0.96082    0.12600  0.31287 -0.57545   \n",
       "1   2 -0.07854 -0.48246    1.98437  0.96082   -0.31685 -0.67825  1.93886   \n",
       "2   3  0.49788 -0.48246   -0.05921  0.96082   -0.31685 -0.46725  0.80523   \n",
       "3   4 -0.95197  0.48246    1.16365  0.96082   -0.31685 -0.14882 -0.80615   \n",
       "4   5  0.49788  0.48246    1.98437  0.96082   -0.31685  0.73545 -1.63340   \n",
       "\n",
       "    Oscore   Ascore  ...  Ecstasy  Heroin  Ketamine Legalh  LSD Meth  \\\n",
       "0 -0.58331 -0.91699  ...      CL0     CL0       CL0    CL0  CL0  CL0   \n",
       "1  1.43533  0.76096  ...      CL4     CL0       CL2    CL0  CL2  CL3   \n",
       "2 -0.84732 -1.62090  ...      CL0     CL0       CL0    CL0  CL0  CL0   \n",
       "3 -0.01928  0.59042  ...      CL0     CL0       CL2    CL0  CL0  CL0   \n",
       "4 -0.45174 -0.30172  ...      CL1     CL0       CL0    CL1  CL0  CL0   \n",
       "\n",
       "  Mushrooms Nicotine Semer  VSA  \n",
       "0       CL0      CL2   CL0  CL0  \n",
       "1       CL0      CL4   CL0  CL0  \n",
       "2       CL1      CL0   CL0  CL0  \n",
       "3       CL0      CL2   CL0  CL0  \n",
       "4       CL2      CL2   CL0  CL0  \n",
       "\n",
       "[5 rows x 32 columns]"
      ]
     },
     "execution_count": 3,
     "metadata": {},
     "output_type": "execute_result"
    }
   ],
   "source": [
    "df.head()"
   ]
  },
  {
   "cell_type": "markdown",
   "id": "3e88b4ff",
   "metadata": {},
   "source": [
    "### Previewing the Tail of Dataset"
   ]
  },
  {
   "cell_type": "code",
   "execution_count": 4,
   "id": "5d02a971",
   "metadata": {},
   "outputs": [
    {
     "data": {
      "application/vnd.microsoft.datawrangler.viewer.v0+json": {
       "columns": [
        {
         "name": "index",
         "rawType": "int64",
         "type": "integer"
        },
        {
         "name": "ID",
         "rawType": "int64",
         "type": "integer"
        },
        {
         "name": "Age",
         "rawType": "float64",
         "type": "float"
        },
        {
         "name": "Gender",
         "rawType": "float64",
         "type": "float"
        },
        {
         "name": "Education",
         "rawType": "float64",
         "type": "float"
        },
        {
         "name": "Country",
         "rawType": "float64",
         "type": "float"
        },
        {
         "name": "Ethnicity",
         "rawType": "float64",
         "type": "float"
        },
        {
         "name": "Nscore",
         "rawType": "float64",
         "type": "float"
        },
        {
         "name": "Escore",
         "rawType": "float64",
         "type": "float"
        },
        {
         "name": "Oscore",
         "rawType": "float64",
         "type": "float"
        },
        {
         "name": "Ascore",
         "rawType": "float64",
         "type": "float"
        },
        {
         "name": "Cscore",
         "rawType": "float64",
         "type": "float"
        },
        {
         "name": "Impulsive",
         "rawType": "float64",
         "type": "float"
        },
        {
         "name": "SS",
         "rawType": "float64",
         "type": "float"
        },
        {
         "name": "Alcohol",
         "rawType": "object",
         "type": "string"
        },
        {
         "name": "Amphet",
         "rawType": "object",
         "type": "string"
        },
        {
         "name": "Amyl",
         "rawType": "object",
         "type": "string"
        },
        {
         "name": "Benzos",
         "rawType": "object",
         "type": "string"
        },
        {
         "name": "Caff",
         "rawType": "object",
         "type": "string"
        },
        {
         "name": "Cannabis",
         "rawType": "object",
         "type": "string"
        },
        {
         "name": "Choc",
         "rawType": "object",
         "type": "string"
        },
        {
         "name": "Coke",
         "rawType": "object",
         "type": "string"
        },
        {
         "name": "Crack",
         "rawType": "object",
         "type": "string"
        },
        {
         "name": "Ecstasy",
         "rawType": "object",
         "type": "string"
        },
        {
         "name": "Heroin",
         "rawType": "object",
         "type": "string"
        },
        {
         "name": "Ketamine",
         "rawType": "object",
         "type": "string"
        },
        {
         "name": "Legalh",
         "rawType": "object",
         "type": "string"
        },
        {
         "name": "LSD",
         "rawType": "object",
         "type": "string"
        },
        {
         "name": "Meth",
         "rawType": "object",
         "type": "string"
        },
        {
         "name": "Mushrooms",
         "rawType": "object",
         "type": "string"
        },
        {
         "name": "Nicotine",
         "rawType": "object",
         "type": "string"
        },
        {
         "name": "Semer",
         "rawType": "object",
         "type": "string"
        },
        {
         "name": "VSA",
         "rawType": "object",
         "type": "string"
        }
       ],
       "ref": "50f896ed-5827-474b-aa6f-e403cbb25b46",
       "rows": [
        [
         "1880",
         "1884",
         "-0.95197",
         "0.48246",
         "-0.61113",
         "-0.57009",
         "-0.31685",
         "-1.1943",
         "1.74091",
         "1.88511",
         "0.76096",
         "-1.13788",
         "0.88113",
         "1.92173",
         "CL5",
         "CL0",
         "CL0",
         "CL0",
         "CL4",
         "CL5",
         "CL4",
         "CL0",
         "CL0",
         "CL0",
         "CL0",
         "CL0",
         "CL3",
         "CL3",
         "CL0",
         "CL0",
         "CL0",
         "CL0",
         "CL5"
        ],
        [
         "1881",
         "1885",
         "-0.95197",
         "-0.48246",
         "-0.61113",
         "-0.57009",
         "-0.31685",
         "-0.24649",
         "1.74091",
         "0.58331",
         "0.76096",
         "-1.5184",
         "0.88113",
         "0.7654",
         "CL5",
         "CL0",
         "CL0",
         "CL0",
         "CL5",
         "CL3",
         "CL4",
         "CL0",
         "CL0",
         "CL2",
         "CL0",
         "CL0",
         "CL3",
         "CL5",
         "CL4",
         "CL4",
         "CL5",
         "CL0",
         "CL0"
        ],
        [
         "1882",
         "1886",
         "-0.07854",
         "0.48246",
         "0.45468",
         "-0.57009",
         "-0.31685",
         "1.13281",
         "-1.37639",
         "-1.27553",
         "-1.772",
         "-1.38502",
         "0.52975",
         "-0.52593",
         "CL4",
         "CL6",
         "CL5",
         "CL5",
         "CL6",
         "CL6",
         "CL6",
         "CL4",
         "CL0",
         "CL4",
         "CL0",
         "CL2",
         "CL0",
         "CL2",
         "CL0",
         "CL2",
         "CL6",
         "CL0",
         "CL0"
        ],
        [
         "1883",
         "1887",
         "-0.95197",
         "0.48246",
         "-0.61113",
         "-0.57009",
         "-0.31685",
         "0.91093",
         "-1.92173",
         "0.29338",
         "-1.6209",
         "-2.57309",
         "1.29221",
         "1.2247",
         "CL5",
         "CL0",
         "CL0",
         "CL0",
         "CL6",
         "CL6",
         "CL5",
         "CL0",
         "CL0",
         "CL3",
         "CL0",
         "CL0",
         "CL3",
         "CL3",
         "CL0",
         "CL3",
         "CL4",
         "CL0",
         "CL0"
        ],
        [
         "1884",
         "1888",
         "-0.95197",
         "-0.48246",
         "-0.61113",
         "0.21128",
         "-0.31685",
         "-0.46725",
         "2.127",
         "1.65653",
         "1.11406",
         "0.41594",
         "0.88113",
         "1.2247",
         "CL4",
         "CL3",
         "CL0",
         "CL3",
         "CL6",
         "CL3",
         "CL6",
         "CL3",
         "CL0",
         "CL3",
         "CL0",
         "CL0",
         "CL3",
         "CL3",
         "CL0",
         "CL3",
         "CL6",
         "CL0",
         "CL2"
        ]
       ],
       "shape": {
        "columns": 32,
        "rows": 5
       }
      },
      "text/html": [
       "<div>\n",
       "<style scoped>\n",
       "    .dataframe tbody tr th:only-of-type {\n",
       "        vertical-align: middle;\n",
       "    }\n",
       "\n",
       "    .dataframe tbody tr th {\n",
       "        vertical-align: top;\n",
       "    }\n",
       "\n",
       "    .dataframe thead th {\n",
       "        text-align: right;\n",
       "    }\n",
       "</style>\n",
       "<table border=\"1\" class=\"dataframe\">\n",
       "  <thead>\n",
       "    <tr style=\"text-align: right;\">\n",
       "      <th></th>\n",
       "      <th>ID</th>\n",
       "      <th>Age</th>\n",
       "      <th>Gender</th>\n",
       "      <th>Education</th>\n",
       "      <th>Country</th>\n",
       "      <th>Ethnicity</th>\n",
       "      <th>Nscore</th>\n",
       "      <th>Escore</th>\n",
       "      <th>Oscore</th>\n",
       "      <th>Ascore</th>\n",
       "      <th>...</th>\n",
       "      <th>Ecstasy</th>\n",
       "      <th>Heroin</th>\n",
       "      <th>Ketamine</th>\n",
       "      <th>Legalh</th>\n",
       "      <th>LSD</th>\n",
       "      <th>Meth</th>\n",
       "      <th>Mushrooms</th>\n",
       "      <th>Nicotine</th>\n",
       "      <th>Semer</th>\n",
       "      <th>VSA</th>\n",
       "    </tr>\n",
       "  </thead>\n",
       "  <tbody>\n",
       "    <tr>\n",
       "      <th>1880</th>\n",
       "      <td>1884</td>\n",
       "      <td>-0.95197</td>\n",
       "      <td>0.48246</td>\n",
       "      <td>-0.61113</td>\n",
       "      <td>-0.57009</td>\n",
       "      <td>-0.31685</td>\n",
       "      <td>-1.19430</td>\n",
       "      <td>1.74091</td>\n",
       "      <td>1.88511</td>\n",
       "      <td>0.76096</td>\n",
       "      <td>...</td>\n",
       "      <td>CL0</td>\n",
       "      <td>CL0</td>\n",
       "      <td>CL0</td>\n",
       "      <td>CL3</td>\n",
       "      <td>CL3</td>\n",
       "      <td>CL0</td>\n",
       "      <td>CL0</td>\n",
       "      <td>CL0</td>\n",
       "      <td>CL0</td>\n",
       "      <td>CL5</td>\n",
       "    </tr>\n",
       "    <tr>\n",
       "      <th>1881</th>\n",
       "      <td>1885</td>\n",
       "      <td>-0.95197</td>\n",
       "      <td>-0.48246</td>\n",
       "      <td>-0.61113</td>\n",
       "      <td>-0.57009</td>\n",
       "      <td>-0.31685</td>\n",
       "      <td>-0.24649</td>\n",
       "      <td>1.74091</td>\n",
       "      <td>0.58331</td>\n",
       "      <td>0.76096</td>\n",
       "      <td>...</td>\n",
       "      <td>CL2</td>\n",
       "      <td>CL0</td>\n",
       "      <td>CL0</td>\n",
       "      <td>CL3</td>\n",
       "      <td>CL5</td>\n",
       "      <td>CL4</td>\n",
       "      <td>CL4</td>\n",
       "      <td>CL5</td>\n",
       "      <td>CL0</td>\n",
       "      <td>CL0</td>\n",
       "    </tr>\n",
       "    <tr>\n",
       "      <th>1882</th>\n",
       "      <td>1886</td>\n",
       "      <td>-0.07854</td>\n",
       "      <td>0.48246</td>\n",
       "      <td>0.45468</td>\n",
       "      <td>-0.57009</td>\n",
       "      <td>-0.31685</td>\n",
       "      <td>1.13281</td>\n",
       "      <td>-1.37639</td>\n",
       "      <td>-1.27553</td>\n",
       "      <td>-1.77200</td>\n",
       "      <td>...</td>\n",
       "      <td>CL4</td>\n",
       "      <td>CL0</td>\n",
       "      <td>CL2</td>\n",
       "      <td>CL0</td>\n",
       "      <td>CL2</td>\n",
       "      <td>CL0</td>\n",
       "      <td>CL2</td>\n",
       "      <td>CL6</td>\n",
       "      <td>CL0</td>\n",
       "      <td>CL0</td>\n",
       "    </tr>\n",
       "    <tr>\n",
       "      <th>1883</th>\n",
       "      <td>1887</td>\n",
       "      <td>-0.95197</td>\n",
       "      <td>0.48246</td>\n",
       "      <td>-0.61113</td>\n",
       "      <td>-0.57009</td>\n",
       "      <td>-0.31685</td>\n",
       "      <td>0.91093</td>\n",
       "      <td>-1.92173</td>\n",
       "      <td>0.29338</td>\n",
       "      <td>-1.62090</td>\n",
       "      <td>...</td>\n",
       "      <td>CL3</td>\n",
       "      <td>CL0</td>\n",
       "      <td>CL0</td>\n",
       "      <td>CL3</td>\n",
       "      <td>CL3</td>\n",
       "      <td>CL0</td>\n",
       "      <td>CL3</td>\n",
       "      <td>CL4</td>\n",
       "      <td>CL0</td>\n",
       "      <td>CL0</td>\n",
       "    </tr>\n",
       "    <tr>\n",
       "      <th>1884</th>\n",
       "      <td>1888</td>\n",
       "      <td>-0.95197</td>\n",
       "      <td>-0.48246</td>\n",
       "      <td>-0.61113</td>\n",
       "      <td>0.21128</td>\n",
       "      <td>-0.31685</td>\n",
       "      <td>-0.46725</td>\n",
       "      <td>2.12700</td>\n",
       "      <td>1.65653</td>\n",
       "      <td>1.11406</td>\n",
       "      <td>...</td>\n",
       "      <td>CL3</td>\n",
       "      <td>CL0</td>\n",
       "      <td>CL0</td>\n",
       "      <td>CL3</td>\n",
       "      <td>CL3</td>\n",
       "      <td>CL0</td>\n",
       "      <td>CL3</td>\n",
       "      <td>CL6</td>\n",
       "      <td>CL0</td>\n",
       "      <td>CL2</td>\n",
       "    </tr>\n",
       "  </tbody>\n",
       "</table>\n",
       "<p>5 rows × 32 columns</p>\n",
       "</div>"
      ],
      "text/plain": [
       "        ID      Age   Gender  Education  Country  Ethnicity   Nscore   Escore  \\\n",
       "1880  1884 -0.95197  0.48246   -0.61113 -0.57009   -0.31685 -1.19430  1.74091   \n",
       "1881  1885 -0.95197 -0.48246   -0.61113 -0.57009   -0.31685 -0.24649  1.74091   \n",
       "1882  1886 -0.07854  0.48246    0.45468 -0.57009   -0.31685  1.13281 -1.37639   \n",
       "1883  1887 -0.95197  0.48246   -0.61113 -0.57009   -0.31685  0.91093 -1.92173   \n",
       "1884  1888 -0.95197 -0.48246   -0.61113  0.21128   -0.31685 -0.46725  2.12700   \n",
       "\n",
       "       Oscore   Ascore  ...  Ecstasy  Heroin  Ketamine Legalh  LSD Meth  \\\n",
       "1880  1.88511  0.76096  ...      CL0     CL0       CL0    CL3  CL3  CL0   \n",
       "1881  0.58331  0.76096  ...      CL2     CL0       CL0    CL3  CL5  CL4   \n",
       "1882 -1.27553 -1.77200  ...      CL4     CL0       CL2    CL0  CL2  CL0   \n",
       "1883  0.29338 -1.62090  ...      CL3     CL0       CL0    CL3  CL3  CL0   \n",
       "1884  1.65653  1.11406  ...      CL3     CL0       CL0    CL3  CL3  CL0   \n",
       "\n",
       "     Mushrooms Nicotine Semer  VSA  \n",
       "1880       CL0      CL0   CL0  CL5  \n",
       "1881       CL4      CL5   CL0  CL0  \n",
       "1882       CL2      CL6   CL0  CL0  \n",
       "1883       CL3      CL4   CL0  CL0  \n",
       "1884       CL3      CL6   CL0  CL2  \n",
       "\n",
       "[5 rows x 32 columns]"
      ]
     },
     "execution_count": 4,
     "metadata": {},
     "output_type": "execute_result"
    }
   ],
   "source": [
    "df.tail()"
   ]
  },
  {
   "cell_type": "markdown",
   "id": "ccac39c9",
   "metadata": {},
   "source": [
    "### Dataset Overview and Statistics"
   ]
  },
  {
   "cell_type": "code",
   "execution_count": 5,
   "id": "adf3a081",
   "metadata": {},
   "outputs": [
    {
     "name": "stdout",
     "output_type": "stream",
     "text": [
      "<class 'pandas.core.frame.DataFrame'>\n",
      "RangeIndex: 1885 entries, 0 to 1884\n",
      "Data columns (total 32 columns):\n",
      " #   Column     Non-Null Count  Dtype  \n",
      "---  ------     --------------  -----  \n",
      " 0   ID         1885 non-null   int64  \n",
      " 1   Age        1885 non-null   float64\n",
      " 2   Gender     1885 non-null   float64\n",
      " 3   Education  1885 non-null   float64\n",
      " 4   Country    1885 non-null   float64\n",
      " 5   Ethnicity  1885 non-null   float64\n",
      " 6   Nscore     1885 non-null   float64\n",
      " 7   Escore     1885 non-null   float64\n",
      " 8   Oscore     1885 non-null   float64\n",
      " 9   Ascore     1885 non-null   float64\n",
      " 10  Cscore     1885 non-null   float64\n",
      " 11  Impulsive  1885 non-null   float64\n",
      " 12  SS         1885 non-null   float64\n",
      " 13  Alcohol    1885 non-null   object \n",
      " 14  Amphet     1885 non-null   object \n",
      " 15  Amyl       1885 non-null   object \n",
      " 16  Benzos     1885 non-null   object \n",
      " 17  Caff       1885 non-null   object \n",
      " 18  Cannabis   1885 non-null   object \n",
      " 19  Choc       1885 non-null   object \n",
      " 20  Coke       1885 non-null   object \n",
      " 21  Crack      1885 non-null   object \n",
      " 22  Ecstasy    1885 non-null   object \n",
      " 23  Heroin     1885 non-null   object \n",
      " 24  Ketamine   1885 non-null   object \n",
      " 25  Legalh     1885 non-null   object \n",
      " 26  LSD        1885 non-null   object \n",
      " 27  Meth       1885 non-null   object \n",
      " 28  Mushrooms  1885 non-null   object \n",
      " 29  Nicotine   1885 non-null   object \n",
      " 30  Semer      1885 non-null   object \n",
      " 31  VSA        1885 non-null   object \n",
      "dtypes: float64(12), int64(1), object(19)\n",
      "memory usage: 471.4+ KB\n"
     ]
    }
   ],
   "source": [
    "df.info()"
   ]
  },
  {
   "cell_type": "markdown",
   "id": "63e5a438",
   "metadata": {},
   "source": [
    "### Dataset Overview and Statistics"
   ]
  },
  {
   "cell_type": "code",
   "execution_count": 6,
   "id": "f99f42ac",
   "metadata": {},
   "outputs": [
    {
     "data": {
      "application/vnd.microsoft.datawrangler.viewer.v0+json": {
       "columns": [
        {
         "name": "index",
         "rawType": "object",
         "type": "string"
        },
        {
         "name": "ID",
         "rawType": "float64",
         "type": "float"
        },
        {
         "name": "Age",
         "rawType": "float64",
         "type": "float"
        },
        {
         "name": "Gender",
         "rawType": "float64",
         "type": "float"
        },
        {
         "name": "Education",
         "rawType": "float64",
         "type": "float"
        },
        {
         "name": "Country",
         "rawType": "float64",
         "type": "float"
        },
        {
         "name": "Ethnicity",
         "rawType": "float64",
         "type": "float"
        },
        {
         "name": "Nscore",
         "rawType": "float64",
         "type": "float"
        },
        {
         "name": "Escore",
         "rawType": "float64",
         "type": "float"
        },
        {
         "name": "Oscore",
         "rawType": "float64",
         "type": "float"
        },
        {
         "name": "Ascore",
         "rawType": "float64",
         "type": "float"
        },
        {
         "name": "Cscore",
         "rawType": "float64",
         "type": "float"
        },
        {
         "name": "Impulsive",
         "rawType": "float64",
         "type": "float"
        },
        {
         "name": "SS",
         "rawType": "float64",
         "type": "float"
        },
        {
         "name": "Alcohol",
         "rawType": "object",
         "type": "unknown"
        },
        {
         "name": "Amphet",
         "rawType": "object",
         "type": "unknown"
        },
        {
         "name": "Amyl",
         "rawType": "object",
         "type": "unknown"
        },
        {
         "name": "Benzos",
         "rawType": "object",
         "type": "unknown"
        },
        {
         "name": "Caff",
         "rawType": "object",
         "type": "unknown"
        },
        {
         "name": "Cannabis",
         "rawType": "object",
         "type": "unknown"
        },
        {
         "name": "Choc",
         "rawType": "object",
         "type": "unknown"
        },
        {
         "name": "Coke",
         "rawType": "object",
         "type": "unknown"
        },
        {
         "name": "Crack",
         "rawType": "object",
         "type": "unknown"
        },
        {
         "name": "Ecstasy",
         "rawType": "object",
         "type": "unknown"
        },
        {
         "name": "Heroin",
         "rawType": "object",
         "type": "unknown"
        },
        {
         "name": "Ketamine",
         "rawType": "object",
         "type": "unknown"
        },
        {
         "name": "Legalh",
         "rawType": "object",
         "type": "unknown"
        },
        {
         "name": "LSD",
         "rawType": "object",
         "type": "unknown"
        },
        {
         "name": "Meth",
         "rawType": "object",
         "type": "unknown"
        },
        {
         "name": "Mushrooms",
         "rawType": "object",
         "type": "unknown"
        },
        {
         "name": "Nicotine",
         "rawType": "object",
         "type": "unknown"
        },
        {
         "name": "Semer",
         "rawType": "object",
         "type": "unknown"
        },
        {
         "name": "VSA",
         "rawType": "object",
         "type": "unknown"
        }
       ],
       "ref": "b351eb36-ce2c-4d78-8247-8d758545d79a",
       "rows": [
        [
         "count",
         "1885.0",
         "1885.0",
         "1885.0",
         "1885.0",
         "1885.0",
         "1885.0",
         "1885.0",
         "1885.0",
         "1885.0",
         "1885.0",
         "1885.0",
         "1885.0",
         "1885.0",
         "1885",
         "1885",
         "1885",
         "1885",
         "1885",
         "1885",
         "1885",
         "1885",
         "1885",
         "1885",
         "1885",
         "1885",
         "1885",
         "1885",
         "1885",
         "1885",
         "1885",
         "1885",
         "1885"
        ],
        [
         "unique",
         null,
         null,
         null,
         null,
         null,
         null,
         null,
         null,
         null,
         null,
         null,
         null,
         null,
         "7",
         "7",
         "7",
         "7",
         "7",
         "7",
         "7",
         "7",
         "7",
         "7",
         "7",
         "7",
         "7",
         "7",
         "7",
         "7",
         "7",
         "5",
         "7"
        ],
        [
         "top",
         null,
         null,
         null,
         null,
         null,
         null,
         null,
         null,
         null,
         null,
         null,
         null,
         null,
         "CL5",
         "CL0",
         "CL0",
         "CL0",
         "CL6",
         "CL6",
         "CL6",
         "CL0",
         "CL0",
         "CL0",
         "CL0",
         "CL0",
         "CL0",
         "CL0",
         "CL0",
         "CL0",
         "CL6",
         "CL0",
         "CL0"
        ],
        [
         "freq",
         null,
         null,
         null,
         null,
         null,
         null,
         null,
         null,
         null,
         null,
         null,
         null,
         null,
         "759",
         "976",
         "1305",
         "1000",
         "1385",
         "463",
         "807",
         "1038",
         "1627",
         "1021",
         "1605",
         "1490",
         "1094",
         "1069",
         "1429",
         "982",
         "610",
         "1877",
         "1455"
        ],
        [
         "mean",
         "945.2949602122015",
         "0.03460995225464192",
         "-0.0002559469496021218",
         "-0.003806090185676411",
         "0.3555421697612732",
         "-0.30957720424403185",
         "4.660477453581443e-05",
         "-0.0001628010610079536",
         "-0.0005343978779840694",
         "-0.0002449655172413689",
         "-0.0003860689655172399",
         "0.007216063660477443",
         "-0.003291665782493378",
         null,
         null,
         null,
         null,
         null,
         null,
         null,
         null,
         null,
         null,
         null,
         null,
         null,
         null,
         null,
         null,
         null,
         null,
         null
        ],
        [
         "std",
         "545.1676410988996",
         "0.8783603244968189",
         "0.48258795650669223",
         "0.9500782517816263",
         "0.7003350991862702",
         "0.16622580875599646",
         "0.9981059358473481",
         "0.9974484946397126",
         "0.9962285537660901",
         "0.9974404928094333",
         "0.9975226271655743",
         "0.9544345111747234",
         "0.9637011589526342",
         null,
         null,
         null,
         null,
         null,
         null,
         null,
         null,
         null,
         null,
         null,
         null,
         null,
         null,
         null,
         null,
         null,
         null,
         null
        ],
        [
         "min",
         "1.0",
         "-0.95197",
         "-0.48246",
         "-2.43591",
         "-0.57009",
         "-1.10702",
         "-3.46436",
         "-3.27393",
         "-3.27393",
         "-3.46436",
         "-3.46436",
         "-2.55524",
         "-2.07848",
         null,
         null,
         null,
         null,
         null,
         null,
         null,
         null,
         null,
         null,
         null,
         null,
         null,
         null,
         null,
         null,
         null,
         null,
         null
        ],
        [
         "25%",
         "474.0",
         "-0.95197",
         "-0.48246",
         "-0.61113",
         "-0.57009",
         "-0.31685",
         "-0.67825",
         "-0.69509",
         "-0.71727",
         "-0.60633",
         "-0.65253",
         "-0.71126",
         "-0.52593",
         null,
         null,
         null,
         null,
         null,
         null,
         null,
         null,
         null,
         null,
         null,
         null,
         null,
         null,
         null,
         null,
         null,
         null,
         null
        ],
        [
         "50%",
         "946.0",
         "-0.07854",
         "-0.48246",
         "-0.05921",
         "0.96082",
         "-0.31685",
         "0.04257",
         "0.00332",
         "-0.01928",
         "-0.01729",
         "-0.00665",
         "-0.21712",
         "0.07987",
         null,
         null,
         null,
         null,
         null,
         null,
         null,
         null,
         null,
         null,
         null,
         null,
         null,
         null,
         null,
         null,
         null,
         null,
         null
        ],
        [
         "75%",
         "1417.0",
         "0.49788",
         "0.48246",
         "0.45468",
         "0.96082",
         "-0.31685",
         "0.62967",
         "0.63779",
         "0.7233",
         "0.76096",
         "0.58489",
         "0.52975",
         "0.7654",
         null,
         null,
         null,
         null,
         null,
         null,
         null,
         null,
         null,
         null,
         null,
         null,
         null,
         null,
         null,
         null,
         null,
         null,
         null
        ],
        [
         "max",
         "1888.0",
         "2.59171",
         "0.48246",
         "1.98437",
         "0.96082",
         "1.90725",
         "3.27393",
         "3.27393",
         "2.90161",
         "3.46436",
         "3.46436",
         "2.90161",
         "1.92173",
         null,
         null,
         null,
         null,
         null,
         null,
         null,
         null,
         null,
         null,
         null,
         null,
         null,
         null,
         null,
         null,
         null,
         null,
         null
        ]
       ],
       "shape": {
        "columns": 32,
        "rows": 11
       }
      },
      "text/html": [
       "<div>\n",
       "<style scoped>\n",
       "    .dataframe tbody tr th:only-of-type {\n",
       "        vertical-align: middle;\n",
       "    }\n",
       "\n",
       "    .dataframe tbody tr th {\n",
       "        vertical-align: top;\n",
       "    }\n",
       "\n",
       "    .dataframe thead th {\n",
       "        text-align: right;\n",
       "    }\n",
       "</style>\n",
       "<table border=\"1\" class=\"dataframe\">\n",
       "  <thead>\n",
       "    <tr style=\"text-align: right;\">\n",
       "      <th></th>\n",
       "      <th>ID</th>\n",
       "      <th>Age</th>\n",
       "      <th>Gender</th>\n",
       "      <th>Education</th>\n",
       "      <th>Country</th>\n",
       "      <th>Ethnicity</th>\n",
       "      <th>Nscore</th>\n",
       "      <th>Escore</th>\n",
       "      <th>Oscore</th>\n",
       "      <th>Ascore</th>\n",
       "      <th>...</th>\n",
       "      <th>Ecstasy</th>\n",
       "      <th>Heroin</th>\n",
       "      <th>Ketamine</th>\n",
       "      <th>Legalh</th>\n",
       "      <th>LSD</th>\n",
       "      <th>Meth</th>\n",
       "      <th>Mushrooms</th>\n",
       "      <th>Nicotine</th>\n",
       "      <th>Semer</th>\n",
       "      <th>VSA</th>\n",
       "    </tr>\n",
       "  </thead>\n",
       "  <tbody>\n",
       "    <tr>\n",
       "      <th>count</th>\n",
       "      <td>1885.000000</td>\n",
       "      <td>1885.00000</td>\n",
       "      <td>1885.000000</td>\n",
       "      <td>1885.000000</td>\n",
       "      <td>1885.000000</td>\n",
       "      <td>1885.000000</td>\n",
       "      <td>1885.000000</td>\n",
       "      <td>1885.000000</td>\n",
       "      <td>1885.000000</td>\n",
       "      <td>1885.000000</td>\n",
       "      <td>...</td>\n",
       "      <td>1885</td>\n",
       "      <td>1885</td>\n",
       "      <td>1885</td>\n",
       "      <td>1885</td>\n",
       "      <td>1885</td>\n",
       "      <td>1885</td>\n",
       "      <td>1885</td>\n",
       "      <td>1885</td>\n",
       "      <td>1885</td>\n",
       "      <td>1885</td>\n",
       "    </tr>\n",
       "    <tr>\n",
       "      <th>unique</th>\n",
       "      <td>NaN</td>\n",
       "      <td>NaN</td>\n",
       "      <td>NaN</td>\n",
       "      <td>NaN</td>\n",
       "      <td>NaN</td>\n",
       "      <td>NaN</td>\n",
       "      <td>NaN</td>\n",
       "      <td>NaN</td>\n",
       "      <td>NaN</td>\n",
       "      <td>NaN</td>\n",
       "      <td>...</td>\n",
       "      <td>7</td>\n",
       "      <td>7</td>\n",
       "      <td>7</td>\n",
       "      <td>7</td>\n",
       "      <td>7</td>\n",
       "      <td>7</td>\n",
       "      <td>7</td>\n",
       "      <td>7</td>\n",
       "      <td>5</td>\n",
       "      <td>7</td>\n",
       "    </tr>\n",
       "    <tr>\n",
       "      <th>top</th>\n",
       "      <td>NaN</td>\n",
       "      <td>NaN</td>\n",
       "      <td>NaN</td>\n",
       "      <td>NaN</td>\n",
       "      <td>NaN</td>\n",
       "      <td>NaN</td>\n",
       "      <td>NaN</td>\n",
       "      <td>NaN</td>\n",
       "      <td>NaN</td>\n",
       "      <td>NaN</td>\n",
       "      <td>...</td>\n",
       "      <td>CL0</td>\n",
       "      <td>CL0</td>\n",
       "      <td>CL0</td>\n",
       "      <td>CL0</td>\n",
       "      <td>CL0</td>\n",
       "      <td>CL0</td>\n",
       "      <td>CL0</td>\n",
       "      <td>CL6</td>\n",
       "      <td>CL0</td>\n",
       "      <td>CL0</td>\n",
       "    </tr>\n",
       "    <tr>\n",
       "      <th>freq</th>\n",
       "      <td>NaN</td>\n",
       "      <td>NaN</td>\n",
       "      <td>NaN</td>\n",
       "      <td>NaN</td>\n",
       "      <td>NaN</td>\n",
       "      <td>NaN</td>\n",
       "      <td>NaN</td>\n",
       "      <td>NaN</td>\n",
       "      <td>NaN</td>\n",
       "      <td>NaN</td>\n",
       "      <td>...</td>\n",
       "      <td>1021</td>\n",
       "      <td>1605</td>\n",
       "      <td>1490</td>\n",
       "      <td>1094</td>\n",
       "      <td>1069</td>\n",
       "      <td>1429</td>\n",
       "      <td>982</td>\n",
       "      <td>610</td>\n",
       "      <td>1877</td>\n",
       "      <td>1455</td>\n",
       "    </tr>\n",
       "    <tr>\n",
       "      <th>mean</th>\n",
       "      <td>945.294960</td>\n",
       "      <td>0.03461</td>\n",
       "      <td>-0.000256</td>\n",
       "      <td>-0.003806</td>\n",
       "      <td>0.355542</td>\n",
       "      <td>-0.309577</td>\n",
       "      <td>0.000047</td>\n",
       "      <td>-0.000163</td>\n",
       "      <td>-0.000534</td>\n",
       "      <td>-0.000245</td>\n",
       "      <td>...</td>\n",
       "      <td>NaN</td>\n",
       "      <td>NaN</td>\n",
       "      <td>NaN</td>\n",
       "      <td>NaN</td>\n",
       "      <td>NaN</td>\n",
       "      <td>NaN</td>\n",
       "      <td>NaN</td>\n",
       "      <td>NaN</td>\n",
       "      <td>NaN</td>\n",
       "      <td>NaN</td>\n",
       "    </tr>\n",
       "    <tr>\n",
       "      <th>std</th>\n",
       "      <td>545.167641</td>\n",
       "      <td>0.87836</td>\n",
       "      <td>0.482588</td>\n",
       "      <td>0.950078</td>\n",
       "      <td>0.700335</td>\n",
       "      <td>0.166226</td>\n",
       "      <td>0.998106</td>\n",
       "      <td>0.997448</td>\n",
       "      <td>0.996229</td>\n",
       "      <td>0.997440</td>\n",
       "      <td>...</td>\n",
       "      <td>NaN</td>\n",
       "      <td>NaN</td>\n",
       "      <td>NaN</td>\n",
       "      <td>NaN</td>\n",
       "      <td>NaN</td>\n",
       "      <td>NaN</td>\n",
       "      <td>NaN</td>\n",
       "      <td>NaN</td>\n",
       "      <td>NaN</td>\n",
       "      <td>NaN</td>\n",
       "    </tr>\n",
       "    <tr>\n",
       "      <th>min</th>\n",
       "      <td>1.000000</td>\n",
       "      <td>-0.95197</td>\n",
       "      <td>-0.482460</td>\n",
       "      <td>-2.435910</td>\n",
       "      <td>-0.570090</td>\n",
       "      <td>-1.107020</td>\n",
       "      <td>-3.464360</td>\n",
       "      <td>-3.273930</td>\n",
       "      <td>-3.273930</td>\n",
       "      <td>-3.464360</td>\n",
       "      <td>...</td>\n",
       "      <td>NaN</td>\n",
       "      <td>NaN</td>\n",
       "      <td>NaN</td>\n",
       "      <td>NaN</td>\n",
       "      <td>NaN</td>\n",
       "      <td>NaN</td>\n",
       "      <td>NaN</td>\n",
       "      <td>NaN</td>\n",
       "      <td>NaN</td>\n",
       "      <td>NaN</td>\n",
       "    </tr>\n",
       "    <tr>\n",
       "      <th>25%</th>\n",
       "      <td>474.000000</td>\n",
       "      <td>-0.95197</td>\n",
       "      <td>-0.482460</td>\n",
       "      <td>-0.611130</td>\n",
       "      <td>-0.570090</td>\n",
       "      <td>-0.316850</td>\n",
       "      <td>-0.678250</td>\n",
       "      <td>-0.695090</td>\n",
       "      <td>-0.717270</td>\n",
       "      <td>-0.606330</td>\n",
       "      <td>...</td>\n",
       "      <td>NaN</td>\n",
       "      <td>NaN</td>\n",
       "      <td>NaN</td>\n",
       "      <td>NaN</td>\n",
       "      <td>NaN</td>\n",
       "      <td>NaN</td>\n",
       "      <td>NaN</td>\n",
       "      <td>NaN</td>\n",
       "      <td>NaN</td>\n",
       "      <td>NaN</td>\n",
       "    </tr>\n",
       "    <tr>\n",
       "      <th>50%</th>\n",
       "      <td>946.000000</td>\n",
       "      <td>-0.07854</td>\n",
       "      <td>-0.482460</td>\n",
       "      <td>-0.059210</td>\n",
       "      <td>0.960820</td>\n",
       "      <td>-0.316850</td>\n",
       "      <td>0.042570</td>\n",
       "      <td>0.003320</td>\n",
       "      <td>-0.019280</td>\n",
       "      <td>-0.017290</td>\n",
       "      <td>...</td>\n",
       "      <td>NaN</td>\n",
       "      <td>NaN</td>\n",
       "      <td>NaN</td>\n",
       "      <td>NaN</td>\n",
       "      <td>NaN</td>\n",
       "      <td>NaN</td>\n",
       "      <td>NaN</td>\n",
       "      <td>NaN</td>\n",
       "      <td>NaN</td>\n",
       "      <td>NaN</td>\n",
       "    </tr>\n",
       "    <tr>\n",
       "      <th>75%</th>\n",
       "      <td>1417.000000</td>\n",
       "      <td>0.49788</td>\n",
       "      <td>0.482460</td>\n",
       "      <td>0.454680</td>\n",
       "      <td>0.960820</td>\n",
       "      <td>-0.316850</td>\n",
       "      <td>0.629670</td>\n",
       "      <td>0.637790</td>\n",
       "      <td>0.723300</td>\n",
       "      <td>0.760960</td>\n",
       "      <td>...</td>\n",
       "      <td>NaN</td>\n",
       "      <td>NaN</td>\n",
       "      <td>NaN</td>\n",
       "      <td>NaN</td>\n",
       "      <td>NaN</td>\n",
       "      <td>NaN</td>\n",
       "      <td>NaN</td>\n",
       "      <td>NaN</td>\n",
       "      <td>NaN</td>\n",
       "      <td>NaN</td>\n",
       "    </tr>\n",
       "    <tr>\n",
       "      <th>max</th>\n",
       "      <td>1888.000000</td>\n",
       "      <td>2.59171</td>\n",
       "      <td>0.482460</td>\n",
       "      <td>1.984370</td>\n",
       "      <td>0.960820</td>\n",
       "      <td>1.907250</td>\n",
       "      <td>3.273930</td>\n",
       "      <td>3.273930</td>\n",
       "      <td>2.901610</td>\n",
       "      <td>3.464360</td>\n",
       "      <td>...</td>\n",
       "      <td>NaN</td>\n",
       "      <td>NaN</td>\n",
       "      <td>NaN</td>\n",
       "      <td>NaN</td>\n",
       "      <td>NaN</td>\n",
       "      <td>NaN</td>\n",
       "      <td>NaN</td>\n",
       "      <td>NaN</td>\n",
       "      <td>NaN</td>\n",
       "      <td>NaN</td>\n",
       "    </tr>\n",
       "  </tbody>\n",
       "</table>\n",
       "<p>11 rows × 32 columns</p>\n",
       "</div>"
      ],
      "text/plain": [
       "                 ID         Age       Gender    Education      Country  \\\n",
       "count   1885.000000  1885.00000  1885.000000  1885.000000  1885.000000   \n",
       "unique          NaN         NaN          NaN          NaN          NaN   \n",
       "top             NaN         NaN          NaN          NaN          NaN   \n",
       "freq            NaN         NaN          NaN          NaN          NaN   \n",
       "mean     945.294960     0.03461    -0.000256    -0.003806     0.355542   \n",
       "std      545.167641     0.87836     0.482588     0.950078     0.700335   \n",
       "min        1.000000    -0.95197    -0.482460    -2.435910    -0.570090   \n",
       "25%      474.000000    -0.95197    -0.482460    -0.611130    -0.570090   \n",
       "50%      946.000000    -0.07854    -0.482460    -0.059210     0.960820   \n",
       "75%     1417.000000     0.49788     0.482460     0.454680     0.960820   \n",
       "max     1888.000000     2.59171     0.482460     1.984370     0.960820   \n",
       "\n",
       "          Ethnicity       Nscore       Escore       Oscore       Ascore  ...  \\\n",
       "count   1885.000000  1885.000000  1885.000000  1885.000000  1885.000000  ...   \n",
       "unique          NaN          NaN          NaN          NaN          NaN  ...   \n",
       "top             NaN          NaN          NaN          NaN          NaN  ...   \n",
       "freq            NaN          NaN          NaN          NaN          NaN  ...   \n",
       "mean      -0.309577     0.000047    -0.000163    -0.000534    -0.000245  ...   \n",
       "std        0.166226     0.998106     0.997448     0.996229     0.997440  ...   \n",
       "min       -1.107020    -3.464360    -3.273930    -3.273930    -3.464360  ...   \n",
       "25%       -0.316850    -0.678250    -0.695090    -0.717270    -0.606330  ...   \n",
       "50%       -0.316850     0.042570     0.003320    -0.019280    -0.017290  ...   \n",
       "75%       -0.316850     0.629670     0.637790     0.723300     0.760960  ...   \n",
       "max        1.907250     3.273930     3.273930     2.901610     3.464360  ...   \n",
       "\n",
       "        Ecstasy  Heroin  Ketamine Legalh   LSD  Meth Mushrooms Nicotine Semer  \\\n",
       "count      1885    1885      1885   1885  1885  1885      1885     1885  1885   \n",
       "unique        7       7         7      7     7     7         7        7     5   \n",
       "top         CL0     CL0       CL0    CL0   CL0   CL0       CL0      CL6   CL0   \n",
       "freq       1021    1605      1490   1094  1069  1429       982      610  1877   \n",
       "mean        NaN     NaN       NaN    NaN   NaN   NaN       NaN      NaN   NaN   \n",
       "std         NaN     NaN       NaN    NaN   NaN   NaN       NaN      NaN   NaN   \n",
       "min         NaN     NaN       NaN    NaN   NaN   NaN       NaN      NaN   NaN   \n",
       "25%         NaN     NaN       NaN    NaN   NaN   NaN       NaN      NaN   NaN   \n",
       "50%         NaN     NaN       NaN    NaN   NaN   NaN       NaN      NaN   NaN   \n",
       "75%         NaN     NaN       NaN    NaN   NaN   NaN       NaN      NaN   NaN   \n",
       "max         NaN     NaN       NaN    NaN   NaN   NaN       NaN      NaN   NaN   \n",
       "\n",
       "         VSA  \n",
       "count   1885  \n",
       "unique     7  \n",
       "top      CL0  \n",
       "freq    1455  \n",
       "mean     NaN  \n",
       "std      NaN  \n",
       "min      NaN  \n",
       "25%      NaN  \n",
       "50%      NaN  \n",
       "75%      NaN  \n",
       "max      NaN  \n",
       "\n",
       "[11 rows x 32 columns]"
      ]
     },
     "execution_count": 6,
     "metadata": {},
     "output_type": "execute_result"
    }
   ],
   "source": [
    "df.describe(include='all')"
   ]
  },
  {
   "cell_type": "markdown",
   "id": "6d9febf7",
   "metadata": {},
   "source": [
    "### Shape Data"
   ]
  },
  {
   "cell_type": "code",
   "execution_count": 7,
   "id": "6772bf58",
   "metadata": {},
   "outputs": [
    {
     "data": {
      "text/plain": [
       "(1885, 32)"
      ]
     },
     "execution_count": 7,
     "metadata": {},
     "output_type": "execute_result"
    }
   ],
   "source": [
    "df.shape"
   ]
  },
  {
   "cell_type": "markdown",
   "id": "16169153",
   "metadata": {},
   "source": [
    "### Check Dtypes"
   ]
  },
  {
   "cell_type": "code",
   "execution_count": 8,
   "id": "93c4465a",
   "metadata": {},
   "outputs": [
    {
     "data": {
      "application/vnd.microsoft.datawrangler.viewer.v0+json": {
       "columns": [
        {
         "name": "index",
         "rawType": "object",
         "type": "string"
        },
        {
         "name": "0",
         "rawType": "object",
         "type": "unknown"
        }
       ],
       "ref": "5e511eae-70e9-4490-b4bd-6a4353b6861b",
       "rows": [
        [
         "ID",
         "int64"
        ],
        [
         "Age",
         "float64"
        ],
        [
         "Gender",
         "float64"
        ],
        [
         "Education",
         "float64"
        ],
        [
         "Country",
         "float64"
        ],
        [
         "Ethnicity",
         "float64"
        ],
        [
         "Nscore",
         "float64"
        ],
        [
         "Escore",
         "float64"
        ],
        [
         "Oscore",
         "float64"
        ],
        [
         "Ascore",
         "float64"
        ],
        [
         "Cscore",
         "float64"
        ],
        [
         "Impulsive",
         "float64"
        ],
        [
         "SS",
         "float64"
        ],
        [
         "Alcohol",
         "object"
        ],
        [
         "Amphet",
         "object"
        ],
        [
         "Amyl",
         "object"
        ],
        [
         "Benzos",
         "object"
        ],
        [
         "Caff",
         "object"
        ],
        [
         "Cannabis",
         "object"
        ],
        [
         "Choc",
         "object"
        ],
        [
         "Coke",
         "object"
        ],
        [
         "Crack",
         "object"
        ],
        [
         "Ecstasy",
         "object"
        ],
        [
         "Heroin",
         "object"
        ],
        [
         "Ketamine",
         "object"
        ],
        [
         "Legalh",
         "object"
        ],
        [
         "LSD",
         "object"
        ],
        [
         "Meth",
         "object"
        ],
        [
         "Mushrooms",
         "object"
        ],
        [
         "Nicotine",
         "object"
        ],
        [
         "Semer",
         "object"
        ],
        [
         "VSA",
         "object"
        ]
       ],
       "shape": {
        "columns": 1,
        "rows": 32
       }
      },
      "text/plain": [
       "ID             int64\n",
       "Age          float64\n",
       "Gender       float64\n",
       "Education    float64\n",
       "Country      float64\n",
       "Ethnicity    float64\n",
       "Nscore       float64\n",
       "Escore       float64\n",
       "Oscore       float64\n",
       "Ascore       float64\n",
       "Cscore       float64\n",
       "Impulsive    float64\n",
       "SS           float64\n",
       "Alcohol       object\n",
       "Amphet        object\n",
       "Amyl          object\n",
       "Benzos        object\n",
       "Caff          object\n",
       "Cannabis      object\n",
       "Choc          object\n",
       "Coke          object\n",
       "Crack         object\n",
       "Ecstasy       object\n",
       "Heroin        object\n",
       "Ketamine      object\n",
       "Legalh        object\n",
       "LSD           object\n",
       "Meth          object\n",
       "Mushrooms     object\n",
       "Nicotine      object\n",
       "Semer         object\n",
       "VSA           object\n",
       "dtype: object"
      ]
     },
     "execution_count": 8,
     "metadata": {},
     "output_type": "execute_result"
    }
   ],
   "source": [
    "df.dtypes"
   ]
  },
  {
   "cell_type": "markdown",
   "id": "97ebcd66",
   "metadata": {},
   "source": [
    "## Data Cleaning"
   ]
  },
  {
   "cell_type": "markdown",
   "id": "2dc06462",
   "metadata": {},
   "source": [
    "### Handling Missing Data"
   ]
  },
  {
   "cell_type": "code",
   "execution_count": 9,
   "id": "6a8d9123",
   "metadata": {},
   "outputs": [
    {
     "data": {
      "application/vnd.microsoft.datawrangler.viewer.v0+json": {
       "columns": [
        {
         "name": "index",
         "rawType": "object",
         "type": "string"
        },
        {
         "name": "0",
         "rawType": "int64",
         "type": "integer"
        }
       ],
       "ref": "0e0706df-3ab7-4560-a709-737c71b985e4",
       "rows": [
        [
         "ID",
         "0"
        ],
        [
         "Age",
         "0"
        ],
        [
         "Gender",
         "0"
        ],
        [
         "Education",
         "0"
        ],
        [
         "Country",
         "0"
        ],
        [
         "Ethnicity",
         "0"
        ],
        [
         "Nscore",
         "0"
        ],
        [
         "Escore",
         "0"
        ],
        [
         "Oscore",
         "0"
        ],
        [
         "Ascore",
         "0"
        ],
        [
         "Cscore",
         "0"
        ],
        [
         "Impulsive",
         "0"
        ],
        [
         "SS",
         "0"
        ],
        [
         "Alcohol",
         "0"
        ],
        [
         "Amphet",
         "0"
        ],
        [
         "Amyl",
         "0"
        ],
        [
         "Benzos",
         "0"
        ],
        [
         "Caff",
         "0"
        ],
        [
         "Cannabis",
         "0"
        ],
        [
         "Choc",
         "0"
        ],
        [
         "Coke",
         "0"
        ],
        [
         "Crack",
         "0"
        ],
        [
         "Ecstasy",
         "0"
        ],
        [
         "Heroin",
         "0"
        ],
        [
         "Ketamine",
         "0"
        ],
        [
         "Legalh",
         "0"
        ],
        [
         "LSD",
         "0"
        ],
        [
         "Meth",
         "0"
        ],
        [
         "Mushrooms",
         "0"
        ],
        [
         "Nicotine",
         "0"
        ],
        [
         "Semer",
         "0"
        ],
        [
         "VSA",
         "0"
        ]
       ],
       "shape": {
        "columns": 1,
        "rows": 32
       }
      },
      "text/plain": [
       "ID           0\n",
       "Age          0\n",
       "Gender       0\n",
       "Education    0\n",
       "Country      0\n",
       "Ethnicity    0\n",
       "Nscore       0\n",
       "Escore       0\n",
       "Oscore       0\n",
       "Ascore       0\n",
       "Cscore       0\n",
       "Impulsive    0\n",
       "SS           0\n",
       "Alcohol      0\n",
       "Amphet       0\n",
       "Amyl         0\n",
       "Benzos       0\n",
       "Caff         0\n",
       "Cannabis     0\n",
       "Choc         0\n",
       "Coke         0\n",
       "Crack        0\n",
       "Ecstasy      0\n",
       "Heroin       0\n",
       "Ketamine     0\n",
       "Legalh       0\n",
       "LSD          0\n",
       "Meth         0\n",
       "Mushrooms    0\n",
       "Nicotine     0\n",
       "Semer        0\n",
       "VSA          0\n",
       "dtype: int64"
      ]
     },
     "execution_count": 9,
     "metadata": {},
     "output_type": "execute_result"
    }
   ],
   "source": [
    "df.isnull().sum()"
   ]
  },
  {
   "cell_type": "markdown",
   "id": "7c80c10b",
   "metadata": {},
   "source": [
    "### Checking and Removing Duplicates"
   ]
  },
  {
   "cell_type": "code",
   "execution_count": 10,
   "id": "b9e6513c",
   "metadata": {},
   "outputs": [
    {
     "data": {
      "text/plain": [
       "np.int64(0)"
      ]
     },
     "execution_count": 10,
     "metadata": {},
     "output_type": "execute_result"
    }
   ],
   "source": [
    "df.duplicated().sum()"
   ]
  },
  {
   "cell_type": "markdown",
   "id": "f44a2065",
   "metadata": {},
   "source": [
    "### Data Transformation and Cleaning"
   ]
  },
  {
   "cell_type": "markdown",
   "id": "cd0407e9",
   "metadata": {},
   "source": [
    "## Transfer Drug_columns"
   ]
  },
  {
   "cell_type": "code",
   "execution_count": 11,
   "id": "8b7259c9",
   "metadata": {},
   "outputs": [
    {
     "name": "stderr",
     "output_type": "stream",
     "text": [
      "C:\\Users\\Amr\\AppData\\Local\\Temp\\ipykernel_28720\\3017847322.py:12: FutureWarning: Downcasting behavior in `replace` is deprecated and will be removed in a future version. To retain the old behavior, explicitly call `result.infer_objects(copy=False)`. To opt-in to the future behavior, set `pd.set_option('future.no_silent_downcasting', True)`\n",
      "  .replace(Drug_col))\n"
     ]
    }
   ],
   "source": [
    "Drug_col={\n",
    "    'CL0': 0,\n",
    "    'CL1': 0,\n",
    "    'CL2': 0,\n",
    "    'CL3': 1,\n",
    "    'CL4': 1,\n",
    "    'CL5': 1,\n",
    "    'CL6': 1\n",
    "}\n",
    "\n",
    "df_drugs = (df.select_dtypes('object')\n",
    "                .replace(Drug_col))\n",
    "\n",
    "dg_cols=df_drugs.columns\n",
    "df[dg_cols]=df_drugs"
   ]
  },
  {
   "cell_type": "markdown",
   "id": "3a213778",
   "metadata": {},
   "source": [
    "### Transfer Age column"
   ]
  },
  {
   "cell_type": "code",
   "execution_count": 12,
   "id": "2e7b812c",
   "metadata": {},
   "outputs": [],
   "source": [
    "age_col = {\n",
    "    -0.95197: '18-24',\n",
    "    -0.07854: '25-34',\n",
    "    0.49788: '35-44',\n",
    "    1.09449: '45-54',\n",
    "    1.82213: '55-64',\n",
    "    2.59171: '65+'\n",
    "}\n",
    "\n",
    "df['Age'] = df['Age'].replace(age_col)"
   ]
  },
  {
   "cell_type": "markdown",
   "id": "ee829e99",
   "metadata": {},
   "source": [
    "### Transfer Education column"
   ]
  },
  {
   "cell_type": "code",
   "execution_count": 13,
   "id": "89fa22c1",
   "metadata": {},
   "outputs": [],
   "source": [
    "education_col = {\n",
    "    -2.43591: 'LSB16',       # Left School Before 16\n",
    "    -1.73790: 'LS16',        # Left School at 16\n",
    "    -1.43719: 'LS17',        # Left School at 17\n",
    "    -1.22751: 'LS18',        # Left School at 18\n",
    "    -0.61113: 'Some College',\n",
    "    -0.05921: 'Certificate',\n",
    "    0.45468: 'University',\n",
    "    1.16365: 'Masters',\n",
    "    1.98437: 'Doctorate'\n",
    "}\n",
    "\n",
    "df['Education'] = df['Education'].replace(education_col)"
   ]
  },
  {
   "cell_type": "markdown",
   "id": "3d8ae191",
   "metadata": {},
   "source": [
    "### Transfer Counrty column"
   ]
  },
  {
   "cell_type": "code",
   "execution_count": 14,
   "id": "47ca4ff9",
   "metadata": {},
   "outputs": [],
   "source": [
    "country_dict = {\n",
    "    -0.09765: 'Australia',\n",
    "     0.24923: 'Canada',\n",
    "    -0.46841: 'New Zealand',\n",
    "    -0.28519: 'Other',\n",
    "     0.21128: 'Republic of Ireland',\n",
    "     0.96082: 'UK',\n",
    "    -0.57009: 'USA'\n",
    "}\n",
    "\n",
    "df['Country'] = df['Country'].replace(country_dict)"
   ]
  },
  {
   "cell_type": "markdown",
   "id": "2d67ff1a",
   "metadata": {},
   "source": [
    "### Transfer Gender column"
   ]
  },
  {
   "cell_type": "code",
   "execution_count": 15,
   "id": "17af3c17",
   "metadata": {},
   "outputs": [],
   "source": [
    "gender_col={-0.48246:'Male',\n",
    "            0.48246:'Female'\n",
    "            \n",
    "            }\n",
    "df['Gender']=df['Gender'].replace(gender_col)"
   ]
  },
  {
   "cell_type": "markdown",
   "id": "3790d501",
   "metadata": {},
   "source": [
    "### Exploring Data"
   ]
  },
  {
   "cell_type": "markdown",
   "id": "c0cf493e",
   "metadata": {},
   "source": [
    "## Gender Distribution"
   ]
  },
  {
   "cell_type": "code",
   "execution_count": 16,
   "id": "b8a98edb",
   "metadata": {},
   "outputs": [
    {
     "data": {
      "image/png": "[encoded data removed]",
      "text/plain": [
       "<Figure size 640x480 with 1 Axes>"
      ]
     },
     "metadata": {},
     "output_type": "display_data"
    }
   ],
   "source": [
    "gender_counts = df['Gender'].value_counts()\n",
    "\n",
    "plt.pie(\n",
    "    gender_counts,\n",
    "    autopct='%1.1f%%',\n",
    "    startangle=90,\n",
    "    colors=['cyan', 'purple']\n",
    ")\n",
    "\n",
    "plt.title(\"Gender Distribution\")\n",
    "plt.legend(labels=gender_counts.index, title=\"Gender\", loc=\"upper right\")\n",
    "plt.show()"
   ]
  },
  {
   "cell_type": "markdown",
   "id": "ff9c1cfa",
   "metadata": {},
   "source": [
    "### Cocaine Usage by Country"
   ]
  },
  {
   "cell_type": "code",
   "execution_count": 17,
   "id": "932bfa5b",
   "metadata": {},
   "outputs": [
    {
     "data": {
      "image/png": "[encoded data removed]",
      "text/plain": [
       "<Figure size 700x700 with 1 Axes>"
      ]
     },
     "metadata": {},
     "output_type": "display_data"
    }
   ],
   "source": [
    "coke_sum = df.groupby('Country')['Coke'].sum()\n",
    "\n",
    "plt.figure(figsize=(7,7))\n",
    "plt.pie(\n",
    "    coke_sum.values,\n",
    "    labels=coke_sum.index,\n",
    "    autopct='%1.1f%%',\n",
    "    startangle=90\n",
    ")\n",
    "plt.title('Cocaine Usage by Country')\n",
    "plt.legend(labels=coke_sum.index, title=\"Country\", loc=\"best\")\n",
    "plt.show()"
   ]
  },
  {
   "cell_type": "markdown",
   "id": "758a17d6",
   "metadata": {},
   "source": [
    "### Age Distribution"
   ]
  },
  {
   "cell_type": "code",
   "execution_count": 18,
   "id": "f70feaa0",
   "metadata": {},
   "outputs": [
    {
     "data": {
      "image/png": "[encoded data removed]",
      "text/plain": [
       "<Figure size 640x480 with 1 Axes>"
      ]
     },
     "metadata": {},
     "output_type": "display_data"
    }
   ],
   "source": [
    "age_counts = df['Age'].value_counts()\n",
    "\n",
    "plt.bar(age_counts.index,age_counts.values)\n",
    "\n",
    "plt.title('Age Distribution')\n",
    "plt.xlabel('Age Group')\n",
    "plt.ylabel('Count')\n",
    "plt.show()"
   ]
  },
  {
   "cell_type": "markdown",
   "id": "2ba709c4",
   "metadata": {},
   "source": [
    "### Visualization Frequency Drugs_columns "
   ]
  },
  {
   "cell_type": "code",
   "execution_count": 19,
   "id": "21eac1df",
   "metadata": {},
   "outputs": [
    {
     "data": {
      "image/png": "[encoded data removed]",
      "text/plain": [
       "<Figure size 1000x800 with 12 Axes>"
      ]
     },
     "metadata": {},
     "output_type": "display_data"
    }
   ],
   "source": [
    "fig, axes = plt.subplots(4, 3, figsize=(10, 8), sharey=True)\n",
    "\n",
    "for ax, coluna in zip(axes.flatten(), df_drugs.columns):\n",
    "    sns.countplot(x=coluna, data=df, ax=ax)\n",
    "    ax.set_ylabel('Frequency')\n",
    "    \n",
    "\n",
    "plt.tight_layout()\n",
    "plt.show()"
   ]
  },
  {
   "cell_type": "markdown",
   "id": "f726b6a8",
   "metadata": {},
   "source": [
    "### Education Level"
   ]
  },
  {
   "cell_type": "code",
   "execution_count": 20,
   "id": "88b53ecf",
   "metadata": {},
   "outputs": [
    {
     "name": "stderr",
     "output_type": "stream",
     "text": [
      "C:\\Users\\Amr\\AppData\\Local\\Temp\\ipykernel_28720\\2002841942.py:2: FutureWarning: \n",
      "\n",
      "Passing `palette` without assigning `hue` is deprecated and will be removed in v0.14.0. Assign the `x` variable to `hue` and set `legend=False` for the same effect.\n",
      "\n",
      "  ax = sns.countplot(data=df, x='Education', order=sorted(df['Education'].unique()), palette='coolwarm')\n"
     ]
    },
    {
     "data": {
      "image/png": "[encoded data removed]",
      "text/plain": [
       "<Figure size 1200x600 with 1 Axes>"
      ]
     },
     "metadata": {},
     "output_type": "display_data"
    }
   ],
   "source": [
    "plt.figure(figsize=(12,6))\n",
    "ax = sns.countplot(data=df, x='Education', order=sorted(df['Education'].unique()), palette='coolwarm')\n",
    "plt.title('Education Level Distribution', fontsize=14, pad=15)\n",
    "plt.xlabel('Education Level')\n",
    "plt.ylabel('Count')\n",
    "plt.tight_layout()\n",
    "plt.show()"
   ]
  },
  {
   "cell_type": "markdown",
   "id": "7f681544",
   "metadata": {},
   "source": [
    "### Coke Users by Education"
   ]
  },
  {
   "cell_type": "code",
   "execution_count": 21,
   "id": "6ad8c05c",
   "metadata": {},
   "outputs": [
    {
     "data": {
      "application/vnd.microsoft.datawrangler.viewer.v0+json": {
       "columns": [
        {
         "name": "index",
         "rawType": "int64",
         "type": "integer"
        },
        {
         "name": "Education",
         "rawType": "object",
         "type": "string"
        },
        {
         "name": "Coke Users (%)",
         "rawType": "float64",
         "type": "float"
        }
       ],
       "ref": "e1d69893-cea0-4e76-b5f9-2cd25bd19ece",
       "rows": [
        [
         "7",
         "Some College",
         "33.4"
        ],
        [
         "3",
         "LS17",
         "30.0"
        ],
        [
         "4",
         "LS18",
         "24.0"
        ],
        [
         "0",
         "Certificate",
         "19.63"
        ],
        [
         "8",
         "University",
         "18.12"
        ],
        [
         "5",
         "LSB16",
         "17.86"
        ],
        [
         "1",
         "Doctorate",
         "16.85"
        ],
        [
         "2",
         "LS16",
         "15.15"
        ],
        [
         "6",
         "Masters",
         "14.13"
        ]
       ],
       "shape": {
        "columns": 2,
        "rows": 9
       }
      },
      "text/html": [
       "<div>\n",
       "<style scoped>\n",
       "    .dataframe tbody tr th:only-of-type {\n",
       "        vertical-align: middle;\n",
       "    }\n",
       "\n",
       "    .dataframe tbody tr th {\n",
       "        vertical-align: top;\n",
       "    }\n",
       "\n",
       "    .dataframe thead th {\n",
       "        text-align: right;\n",
       "    }\n",
       "</style>\n",
       "<table border=\"1\" class=\"dataframe\">\n",
       "  <thead>\n",
       "    <tr style=\"text-align: right;\">\n",
       "      <th></th>\n",
       "      <th>Education</th>\n",
       "      <th>Coke Users (%)</th>\n",
       "    </tr>\n",
       "  </thead>\n",
       "  <tbody>\n",
       "    <tr>\n",
       "      <th>7</th>\n",
       "      <td>Some College</td>\n",
       "      <td>33.40</td>\n",
       "    </tr>\n",
       "    <tr>\n",
       "      <th>3</th>\n",
       "      <td>LS17</td>\n",
       "      <td>30.00</td>\n",
       "    </tr>\n",
       "    <tr>\n",
       "      <th>4</th>\n",
       "      <td>LS18</td>\n",
       "      <td>24.00</td>\n",
       "    </tr>\n",
       "    <tr>\n",
       "      <th>0</th>\n",
       "      <td>Certificate</td>\n",
       "      <td>19.63</td>\n",
       "    </tr>\n",
       "    <tr>\n",
       "      <th>8</th>\n",
       "      <td>University</td>\n",
       "      <td>18.12</td>\n",
       "    </tr>\n",
       "    <tr>\n",
       "      <th>5</th>\n",
       "      <td>LSB16</td>\n",
       "      <td>17.86</td>\n",
       "    </tr>\n",
       "    <tr>\n",
       "      <th>1</th>\n",
       "      <td>Doctorate</td>\n",
       "      <td>16.85</td>\n",
       "    </tr>\n",
       "    <tr>\n",
       "      <th>2</th>\n",
       "      <td>LS16</td>\n",
       "      <td>15.15</td>\n",
       "    </tr>\n",
       "    <tr>\n",
       "      <th>6</th>\n",
       "      <td>Masters</td>\n",
       "      <td>14.13</td>\n",
       "    </tr>\n",
       "  </tbody>\n",
       "</table>\n",
       "</div>"
      ],
      "text/plain": [
       "      Education  Coke Users (%)\n",
       "7  Some College           33.40\n",
       "3          LS17           30.00\n",
       "4          LS18           24.00\n",
       "0   Certificate           19.63\n",
       "8    University           18.12\n",
       "5         LSB16           17.86\n",
       "1     Doctorate           16.85\n",
       "2          LS16           15.15\n",
       "6       Masters           14.13"
      ]
     },
     "execution_count": 21,
     "metadata": {},
     "output_type": "execute_result"
    }
   ],
   "source": [
    "coke_sum = df.groupby('Education')['Coke'].sum()\n",
    "coke_count = df.groupby('Education')['Coke'].count()\n",
    "pd.DataFrame({\n",
    "    'Coke Users (%)': round((coke_sum / coke_count) * 100, 2)\n",
    "}).reset_index().sort_values(by='Coke Users (%)', ascending=False)"
   ]
  },
  {
   "cell_type": "markdown",
   "id": "c7add03f",
   "metadata": {},
   "source": [
    "### Coke Users by Country"
   ]
  },
  {
   "cell_type": "code",
   "execution_count": 22,
   "id": "9f1c4c7d",
   "metadata": {},
   "outputs": [
    {
     "data": {
      "application/vnd.microsoft.datawrangler.viewer.v0+json": {
       "columns": [
        {
         "name": "index",
         "rawType": "int64",
         "type": "integer"
        },
        {
         "name": "Country",
         "rawType": "object",
         "type": "string"
        },
        {
         "name": "Coke Users (%)",
         "rawType": "float64",
         "type": "float"
        }
       ],
       "ref": "321d9d27-b0fd-4b3e-929b-df0611290be8",
       "rows": [
        [
         "2",
         "New Zealand",
         "40.0"
        ],
        [
         "4",
         "Republic of Ireland",
         "40.0"
        ],
        [
         "1",
         "Canada",
         "35.63"
        ],
        [
         "6",
         "USA",
         "35.37"
        ],
        [
         "0",
         "Australia",
         "31.48"
        ],
        [
         "3",
         "Other",
         "25.42"
        ],
        [
         "5",
         "UK",
         "12.64"
        ]
       ],
       "shape": {
        "columns": 2,
        "rows": 7
       }
      },
      "text/html": [
       "<div>\n",
       "<style scoped>\n",
       "    .dataframe tbody tr th:only-of-type {\n",
       "        vertical-align: middle;\n",
       "    }\n",
       "\n",
       "    .dataframe tbody tr th {\n",
       "        vertical-align: top;\n",
       "    }\n",
       "\n",
       "    .dataframe thead th {\n",
       "        text-align: right;\n",
       "    }\n",
       "</style>\n",
       "<table border=\"1\" class=\"dataframe\">\n",
       "  <thead>\n",
       "    <tr style=\"text-align: right;\">\n",
       "      <th></th>\n",
       "      <th>Country</th>\n",
       "      <th>Coke Users (%)</th>\n",
       "    </tr>\n",
       "  </thead>\n",
       "  <tbody>\n",
       "    <tr>\n",
       "      <th>2</th>\n",
       "      <td>New Zealand</td>\n",
       "      <td>40.00</td>\n",
       "    </tr>\n",
       "    <tr>\n",
       "      <th>4</th>\n",
       "      <td>Republic of Ireland</td>\n",
       "      <td>40.00</td>\n",
       "    </tr>\n",
       "    <tr>\n",
       "      <th>1</th>\n",
       "      <td>Canada</td>\n",
       "      <td>35.63</td>\n",
       "    </tr>\n",
       "    <tr>\n",
       "      <th>6</th>\n",
       "      <td>USA</td>\n",
       "      <td>35.37</td>\n",
       "    </tr>\n",
       "    <tr>\n",
       "      <th>0</th>\n",
       "      <td>Australia</td>\n",
       "      <td>31.48</td>\n",
       "    </tr>\n",
       "    <tr>\n",
       "      <th>3</th>\n",
       "      <td>Other</td>\n",
       "      <td>25.42</td>\n",
       "    </tr>\n",
       "    <tr>\n",
       "      <th>5</th>\n",
       "      <td>UK</td>\n",
       "      <td>12.64</td>\n",
       "    </tr>\n",
       "  </tbody>\n",
       "</table>\n",
       "</div>"
      ],
      "text/plain": [
       "               Country  Coke Users (%)\n",
       "2          New Zealand           40.00\n",
       "4  Republic of Ireland           40.00\n",
       "1               Canada           35.63\n",
       "6                  USA           35.37\n",
       "0            Australia           31.48\n",
       "3                Other           25.42\n",
       "5                   UK           12.64"
      ]
     },
     "execution_count": 22,
     "metadata": {},
     "output_type": "execute_result"
    }
   ],
   "source": [
    "coke_sum = df.groupby('Country')['Coke'].sum()\n",
    "coke_count = df.groupby('Country')['Coke'].count()\n",
    "pd.DataFrame({\n",
    "    'Coke Users (%)': round((coke_sum / coke_count) * 100, 2)\n",
    "}).reset_index().sort_values(by='Coke Users (%)', ascending=False)"
   ]
  },
  {
   "cell_type": "markdown",
   "id": "97836b30",
   "metadata": {},
   "source": [
    "### Correlation Heatmap"
   ]
  },
  {
   "cell_type": "code",
   "execution_count": 23,
   "id": "4d3cd636",
   "metadata": {},
   "outputs": [
    {
     "data": {
      "image/png": "[encoded data removed]",
      "text/plain": [
       "<Figure size 1000x800 with 2 Axes>"
      ]
     },
     "metadata": {},
     "output_type": "display_data"
    }
   ],
   "source": [
    "num_df = df.select_dtypes(include=['int', 'float'])\n",
    "plt.figure(figsize=(10,8))\n",
    "sns.heatmap(num_df.corr(), cmap='coolwarm', linewidths=0.5)\n",
    "\n",
    "plt.title('Correlation Heatmap')\n",
    "plt.tight_layout()\n",
    "plt.show()"
   ]
  }
 ],
 "metadata": {
  "kernelspec": {
   "display_name": "anac",
   "language": "python",
   "name": "python3"
  },
  "language_info": {
   "codemirror_mode": {
    "name": "ipython",
    "version": 3
   },
   "file_extension": ".py",
   "mimetype": "text/x-python",
   "name": "python",
   "nbconvert_exporter": "python",
   "pygments_lexer": "ipython3",
   "version": "3.13.7"
  }
 },
 "nbformat": 4,
 "nbformat_minor": 5
}
